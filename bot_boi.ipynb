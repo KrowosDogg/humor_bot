{
 "cells": [
  {
   "cell_type": "code",
   "execution_count": null,
   "metadata": {},
   "outputs": [],
   "source": [
    "getNounsURL = \"http://api.wordnik.com/v4/words.json/randomWords?\" +\n",
    "                  \"minCorpusCount=1000&minDictionaryCount=10&\" +\n",
    "                  \"excludePartOfSpeech=proper-noun,proper-noun-plural,proper-noun-posessive,suffix,family-name,idiom,affix&\" +\n",
    "                  \"hasDictionaryDef=true&includePartOfSpeech=noun&limit=2&maxLength=12&\" +\n",
    "                  \"api_key=______YOUR_API_KEY_HERE___________\";\n",
    "\n",
    "getAdjsURL =  \"http://api.wordnik.com/v4/words.json/randomWords?\" +\n",
    "                  \"hasDictionaryDef=true&includePartOfSpeech=adjective&limit=2&\" + \n",
    "                  \"minCorpusCount=100&api_key=______YOUR_API_KEY_HERE___________\";\n",
    "                \n",
    "def CheckArticle(word, article):\n",
    "    if word[0] == 'a' or word[0] == 'e' or word[0] == 'i' or word[0] == 'o' or word[0] == 'u':\n",
    "        article = \"an\"\n",
    "    return article\n",
    "            \n",
    "def MakeMetaphore():\n",
    "    data = get()\n",
    "    first = data[0]\n",
    "    second = data[1]\n",
    "    artcile1= 'a'\n",
    "    article1 = CheckArticle(first, artcile1)\n",
    "    article2 = 'a'\n",
    "    article2 = CheckArticle(second, artcile2)\n",
    "    connector = \"is\"\n",
    "    \n",
    "    statement1 = article + \" \" + data[0] + \" \" + connector + \" \" + article2 + \" \" + data[1];\n",
    "    \n",
    "    data = get()\n",
    "    \n",
    "    connector2 = \"and\"\n",
    "    \n",
    "    statement2 = adj[0] + connector2 + adj[1]\n",
    "    \n",
    "    statement = statement1 + ':' + statement2\n",
    "    return statement"
   ]
  },
  {
   "cell_type": "code",
   "execution_count": 85,
   "metadata": {},
   "outputs": [],
   "source": [
    "import re\n",
    "\n",
    "def hater_boi(text): # I parse that\n",
    "    sentence = re.findall(r'[a-zA-Z]+', text)\n",
    "    #[item for item in z if item == 'Good'] = 'Bad'\n",
    "    for i in range(len(sentence)):   \n",
    "        if sentence[i] == 'love':\n",
    "            sentence[i] = 'hate'\n",
    "        elif sentence[i] == 'Love':\n",
    "            sentence[i] = 'Hate'\n",
    "        elif sentence[i] == 'loves':\n",
    "            sentence[i] = 'hates'\n",
    "        elif sentence[i] == 'Loves':\n",
    "            sentence[i] = 'Hates'  \n",
    "    message = ' '.join(word for word in sentence)\n",
    "    return message\n",
    "\n",
    "def send_message(text, auth, message):\n",
    "    text += ' ' + auth\n",
    "    session = HTMLSession()\n",
    "    message += '.' + ' ' + 'Hater_Boi'\n",
    "    text = {\"token\": \"f409c610-c136-4fad-b726-c49536b7e293\",\"text\": text}\n",
    "    mess = {\"token\": \"f409c610-c136-4fad-b726-c49536b7e293\",\"text\": message}\n",
    "    z = session.post('https://impossible-swallow.glitch.me/post', data = text)\n",
    "    z = session.post('https://impossible-swallow.glitch.me/post', data = mess)"
   ]
  },
  {
   "cell_type": "code",
   "execution_count": 89,
   "metadata": {},
   "outputs": [
    {
     "ename": "IndexError",
     "evalue": "list index out of range",
     "output_type": "error",
     "traceback": [
      "\u001b[0;31m---------------------------------------------------------------------------\u001b[0m",
      "\u001b[0;31mIndexError\u001b[0m                                Traceback (most recent call last)",
      "\u001b[0;32m<ipython-input-89-521303f93deb>\u001b[0m in \u001b[0;36m<module>\u001b[0;34m\u001b[0m\n\u001b[1;32m     20\u001b[0m \u001b[0;32mfor\u001b[0m \u001b[0mi\u001b[0m \u001b[0;32min\u001b[0m \u001b[0mrange\u001b[0m \u001b[0;34m(\u001b[0m\u001b[0mlen\u001b[0m\u001b[0;34m(\u001b[0m\u001b[0mtext\u001b[0m\u001b[0;34m)\u001b[0m\u001b[0;34m)\u001b[0m\u001b[0;34m:\u001b[0m\u001b[0;34m\u001b[0m\u001b[0;34m\u001b[0m\u001b[0m\n\u001b[1;32m     21\u001b[0m     \u001b[0mmessage\u001b[0m \u001b[0;34m=\u001b[0m \u001b[0mhater_boi\u001b[0m\u001b[0;34m(\u001b[0m\u001b[0mtext\u001b[0m\u001b[0;34m[\u001b[0m\u001b[0mi\u001b[0m\u001b[0;34m]\u001b[0m\u001b[0;34m)\u001b[0m\u001b[0;34m\u001b[0m\u001b[0;34m\u001b[0m\u001b[0m\n\u001b[0;32m---> 22\u001b[0;31m     \u001b[0msend_message\u001b[0m\u001b[0;34m(\u001b[0m\u001b[0mtext\u001b[0m\u001b[0;34m[\u001b[0m\u001b[0mi\u001b[0m\u001b[0;34m]\u001b[0m\u001b[0;34m,\u001b[0m \u001b[0mauth\u001b[0m\u001b[0;34m[\u001b[0m\u001b[0mi\u001b[0m\u001b[0;34m]\u001b[0m\u001b[0;34m,\u001b[0m \u001b[0mmessage\u001b[0m\u001b[0;34m)\u001b[0m\u001b[0;34m\u001b[0m\u001b[0;34m\u001b[0m\u001b[0m\n\u001b[0m\u001b[1;32m     23\u001b[0m     \u001b[0mtime\u001b[0m\u001b[0;34m.\u001b[0m\u001b[0msleep\u001b[0m\u001b[0;34m(\u001b[0m\u001b[0;36m60\u001b[0m\u001b[0;34m)\u001b[0m\u001b[0;34m\u001b[0m\u001b[0;34m\u001b[0m\u001b[0m\n\u001b[1;32m     24\u001b[0m     \u001b[0;31m#print(message)\u001b[0m\u001b[0;34m\u001b[0m\u001b[0;34m\u001b[0m\u001b[0;34m\u001b[0m\u001b[0m\n",
      "\u001b[0;31mIndexError\u001b[0m: list index out of range"
     ]
    }
   ],
   "source": [
    "import time \n",
    "text = [\"You know you're in love when you can't fall asleep because reality is finally better than your dreams.\",\n",
    "        \"A friend is someone who knows all about you and still loves you.\",\n",
    "        \"Darkness cannot drive out darkness: only light can do that. Hate cannot drive out hate: only love can do that.\",\n",
    "        \"We accept the love we think we deserve.\",\n",
    "        \"It is better to be hated for what you are than to be loved for what you are not\", \n",
    "        \"As he read, I fell in love the way you fall asleep: slowly, and then all at once\",\n",
    "        \"The opposite of love is not hate, it's indifference. The opposite of art is not ugliness, it's indifference. The opposite of faith is not heresy, it's indifference. And the opposite of life is not death, it's indifference.\",\n",
    "        \"It is not a lack of love, but a lack of friendship that makes unhappy marriages.\",\n",
    "        \"Love all, trust a few, do wrong to none\",\n",
    "        \"Being deeply loved by someone gives you strength, while loving someone deeply gives you courage.\",\n",
    "        \"There is never a time or place for true love. It happens accidentally, in a heartbeat, in a single flashing, throbbing moment.\",\n",
    "        \"Love is that condition in which the happiness of another person is essential to your own.\"]\n",
    "\n",
    "auth = [ \"Dr. Seuss\", \"Elbert Hubbard\", \"Martin Luther King Jr.\", \"Stephen Chbosky\", \" Andre Gide\", \"John Green\", \n",
    "        \"Elie Wiesel\", \"Friedrich Nietzsche\", \"Lao Tzu\", \"Sarah Dessen\", \" Robert A. Heinlein\"  ]\n",
    "\n",
    "\n",
    "\n",
    "for i in range (len(text)):\n",
    "    message = hater_boi(text[i])\n",
    "    send_message(text[i], auth[i], message)\n",
    "    time.sleep(60)\n",
    "    #print(message)"
   ]
  }
 ],
 "metadata": {
  "kernelspec": {
   "display_name": "Python 3",
   "language": "python",
   "name": "python3"
  },
  "language_info": {
   "codemirror_mode": {
    "name": "ipython",
    "version": 3
   },
   "file_extension": ".py",
   "mimetype": "text/x-python",
   "name": "python",
   "nbconvert_exporter": "python",
   "pygments_lexer": "ipython3",
   "version": "3.6.7"
  }
 },
 "nbformat": 4,
 "nbformat_minor": 2
}
